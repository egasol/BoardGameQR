{
 "cells": [
  {
   "cell_type": "code",
   "execution_count": 31,
   "metadata": {},
   "outputs": [],
   "source": [
    "import graphviz\n",
    "import json\n",
    "from pathlib import Path\n",
    "\n",
    "IGNORE_FILES = [\"map.json\"]\n",
    "MAP_PATH = Path(\"SavedMaps/Tutorial\")"
   ]
  },
  {
   "cell_type": "code",
   "execution_count": 35,
   "metadata": {},
   "outputs": [],
   "source": [
    "def render_interaction(output_path, event_file):\n",
    "    event_name = event_file.stem\n",
    "\n",
    "    with open(event_file, \"r\") as f:\n",
    "        event = json.load(f)\n",
    "\n",
    "    def draw_branch(dot, branch, value):\n",
    "        if isinstance(branch, dict):\n",
    "            for branch_key, branch_value in branch.items():\n",
    "                next_name = value + \"_\" + branch_key\n",
    "                draw_branch(dot, branch_value, next_name)\n",
    "                dot.edge(value, next_name)\n",
    "\n",
    "    dot = graphviz.Digraph()\n",
    "    draw_branch(dot, event[\"interaction\"], \"interaction\")\n",
    "    dot.format = \"png\"\n",
    "    dot.render(output_path / Path(event_name))\n",
    "\n",
    "\n",
    "def get_event_files(map_path):\n",
    "    event_files = list(map_path.glob(\"*.json\"))\n",
    "\n",
    "    for event_file in event_files:\n",
    "        if event_file.name in IGNORE_FILES:\n",
    "            event_files.remove(event_file)\n",
    "\n",
    "    return event_files\n",
    "\n",
    "\n",
    "event_files = get_event_files(MAP_PATH)\n",
    "\n",
    "for event_file in event_files:\n",
    "    render_interaction(MAP_PATH, event_file)"
   ]
  }
 ],
 "metadata": {
  "kernelspec": {
   "display_name": "Python 3.9.2 32-bit",
   "language": "python",
   "name": "python3"
  },
  "language_info": {
   "codemirror_mode": {
    "name": "ipython",
    "version": 3
   },
   "file_extension": ".py",
   "mimetype": "text/x-python",
   "name": "python",
   "nbconvert_exporter": "python",
   "pygments_lexer": "ipython3",
   "version": "3.9.2"
  },
  "orig_nbformat": 4,
  "vscode": {
   "interpreter": {
    "hash": "e7370f93d1d0cde622a1f8e1c04877d8463912d04d973331ad4851f04de6915a"
   }
  }
 },
 "nbformat": 4,
 "nbformat_minor": 2
}
